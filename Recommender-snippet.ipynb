def recommend_items(self, user_id: int, item_id: Optional[int] = None, n: int = 10) -> pd.DataFrame:
    """Generate hybrid recommendations for a user with improved efficiency.
    Args:
        user_id: Target user ID
        item_id: Optional seed item ID for content-based recommendations
        n: Number of recommendations to return (default: 10)
    Returns:
        DataFrame with columns: item_id, cf_score, cb_score, hybrid_score, 
        and all metadata columns from item_data
    Example:
        >>> recommender.recommend_items(user_id=1, item_id=101, n=5)
    """
    # Vectorized collaborative filtering predictions
    all_items = self.item_data['item_id'].unique()
    cf_scores = np.array([self.cf_model.predict(user_id, iid).est for iid in all_items])
    cf_recs = pd.DataFrame({'item_id': all_items, 'cf_score': cf_scores})
    # Content-based recommendations with multiple similarity options
    cb_recs = self._get_content_based_recs(item_id, n) if item_id else pd.DataFrame()
    # Combine with hybrid scoring
    return self._combine_recommendations(cf_recs, cb_recs, n)