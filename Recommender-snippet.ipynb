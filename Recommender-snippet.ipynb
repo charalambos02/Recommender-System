import pandas as pd
import numpy as np
from sklearn.feature_extraction.text import TfidfVectorizer
from sklearn.metrics.pairwise import linear_kernel
from surprise import Dataset, Reader, SVD
from surprise.model_selection import cross_validate, train_test_split
from surprise.accuracy import rmse
import warnings
from typing import Dict, List, Union
warnings.filterwarnings('ignore')
class HybridRecommender:
    def __init__(self, interactions_path='user_item_interactions.csv', 
                 metadata_path='item_metadata.csv'):
        """Initialize the recommender system with data paths
        Args:
            interactions_path: Path to CSV with user-item interactions (user_id, item_id, rating)
            metadata_path: Path to CSV with item metadata (item_id, description, [other features])
        """
        try:
            # Load and validate data
            self.interactions = pd.read_csv(interactions_path)
            self.item_data = pd.read_csv(metadata_path)
            # Validate required columns
            if not all(col in self.interactions.columns for col in ['user_id', 'item_id', 'rating']):
                raise ValueError("Interactions data missing required columns")
            if not all(col in self.item_data.columns for col in ['item_id', 'description']):
                raise ValueError("Item metadata missing required columns")
            # Preprocess data
            self.item_data['description'] = self.item_data['description'].fillna('')
            # Initialize models
            self._init_collaborative_filtering()
            self._init_content_based_filtering()
            self._calculate_similarity_matrix()
        except Exception as e:
            print(f"Error initializing recommender: {str(e)}")
            raise
    def _init_collaborative_filtering(self):
        """Initialize collaborative filtering model"""
        reader = Reader(rating_scale=(1, 5))
        data = Dataset.load_from_df(self.interactions[['user_id', 'item_id', 'rating']], reader)
        trainset, _ = train_test_split(data, test_size=0.2)
        self.model_cf = SVD()
        self.model_cf.fit(trainset)
    def _init_content_based_filtering(self):
        """Initialize content-based filtering components"""
        self.tfidf = TfidfVectorizer(stop_words='english')
        self.tfidf_matrix = self.tfidf.fit_transform(self.item_data['description'])
    def _calculate_similarity_matrix(self):
        """Calculate cosine similarity matrix for content-based recommendations"""
        self.cosine_sim = linear_kernel(self.tfidf_matrix, self.tfidf_matrix)
        self.indices = pd.Series(self.item_data.index, index=self.item_data['item_id']).drop_duplicates()
    def recommend_content_based(self, item_id: str, top_n: int = 5) -> List[Dict]:
        """Get content-based recommendations for a given item
        Args:
            item_id: ID of the item to get similar recommendations for
            top_n: Number of recommendations to return
        Returns:
            List of recommended items with scores
        """
        try:
            idx = self.indices[item_id]
            sim_scores = list(enumerate(self.cosine_sim[idx]))
            sim_scores = sorted(sim_scores, key=lambda x: x[1], reverse=True)
            sim_scores = sim_scores[1:top_n+1]
            item_indices = [i[0] for i in sim_scores]
            return self.item_data.iloc[item_indices].to_dict('records')
        except KeyError:
            print(f"Item {item_id} not found in metadata")
            return []
    def recommend_collaborative(self, user_id: str, top_n: int = 5) -> List[Dict]:
        """Get collaborative filtering recommendations for a given user
        Args:
            user_id: ID of the user to get recommendations for
            top_n: Number of recommendations to return
        Returns:
            List of recommended items with predicted ratings
        """
        try:
            # Get all items not rated by user
            rated_items = set(self.interactions[self.interactions['user_id'] == user_id]['item_id'])
            all_items = set(self.item_data['item_id'])
            unrated_items = all_items - rated_items
            # Predict ratings for unrated items
            predictions = []
            for item_id in unrated_items:
                pred = self.model_cf.predict(user_id, item_id)
                predictions.append({'item_id': item_id, 'predicted_rating': pred.est})
            # Return top N recommendations
            return sorted(predictions, key=lambda x: x['predicted_rating'], reverse=True)[:top_n]
        except Exception as e:
            print(f"Error generating collaborative recommendations: {str(e)}")
            return []
    def recommend_hybrid(self, user_id: str, item_id: str = None, top_n: int = 5, 
                        cf_weight: float = 0.5) -> List[Dict]:
        """Get hybrid recommendations combining both approaches
        Args:
            user_id: ID of the user to get recommendations for
            item_id: Optional item ID for content-based component (uses user's last interaction if None)
            top_n: Number of recommendations to return
            cf_weight: Weight for collaborative filtering (0-1), content-based weight is (1 - cf_weight)
        Returns:
            List of recommended items with combined scores
        """
        try:
            # Get last interacted item if none provided
            if item_id is None:
                last_interaction = self.interactions[self.interactions['user_id'] == user_id]
                if len(last_interaction) == 0:
                    return self.recommend_collaborative(user_id, top_n)
                item_id = last_interaction.sort_values('rating', ascending=False).iloc[0]['item_id']
            # Get recommendations from both approaches
            cf_recs = {rec['item_id']: rec['predicted_rating'] for rec in self.recommend_collaborative(user_id, top_n*2)}
            cb_recs = {rec['item_id']: 1.0 for rec in self.recommend_content_based(item_id, top_n*2)}  # Using similarity score of 1
            # Combine scores
            combined = {}
            for item in set(cf_recs.keys()).union(set(cb_recs.keys())):
                cf_score = cf_recs.get(item, 0)
                cb_score = cb_recs.get(item, 0)
                combined[item] = (cf_weight * cf_score) + ((1 - cf_weight) * cb_score)
            # Return top N combined recommendations
            sorted_recs = sorted(combined.items(), key=lambda x: x[1], reverse=True)
            return [{'item_id': item_id, 'score': score} for item_id, score in sorted_recs[:top_n]]
        except Exception as e:
            print(f"Error generating hybrid recommendations: {str(e)}")
            return []