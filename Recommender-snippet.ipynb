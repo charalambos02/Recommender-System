import pandas as pd
import numpy as np
from sklearn.feature_extraction.text import TfidfVectorizer
from sklearn.metrics.pairwise import linear_kernel
from surprise import Dataset, Reader, SVD
from surprise.model_selection import cross_validate, train_test_split
from surprise.accuracy import rmse
import warnings
warnings.filterwarnings('ignore')
class HybridRecommender:
    def __init__(self, interactions_path='user_item_interactions.csv', 
                 metadata_path='item_metadata.csv'):
        """Initialize the recommender system with data paths"""
        try:
            # Load and validate data
            self.interactions = pd.read_csv(interactions_path)
            self.item_data = pd.read_csv(metadata_path)
            # Validate required columns
            if not all(col in self.interactions.columns for col in ['user_id', 'item_id', 'rating']):
                raise ValueError("Interactions data missing required columns")
            if 'description' not in self.item_data.columns:
                raise ValueError("Item metadata missing description column")
            # Initialize models
            self._init_collaborative_filtering()
            self._init_content_based_filtering()
        except Exception as e:
            print(f"Error initializing recommender: {str(e)}")
            raise
    def _init_collaborative_filtering(self):
        """Initialize collaborative filtering model"""
        reader = Reader(rating_scale=(1, 5))
        data = Dataset.load_from_df(self.interactions[['user_id', 'item_id', 'rating']], reader)
        trainset, _ = train_test_split(data, test_size=0.2)
        self.model_cf = SVD()
        self.model_cf.fit(trainset)
    def _init_content_based_filtering(self):
        """Initialize content-based filtering components"""
        self.item_data['description'] = self.item_data['description'].fillna('')
        self.tfidf_vectorizer = TfidfVectorizer(stop_words='english')
        tfidf_matrix = self.tfidf_vectorizer.fit_transform(self.item_data['description'])
        self.cosine_sim = linear_kernel(tfidf_matrix, tfidf_matrix)
        self.indices = pd.Series(self.item_data.index, index=self.item_data['item_id'])
    def content_based_recommendations(self, item_id, n=10):
        """Get content-based recommendations for an item"""
        try:
            idx = self.indices[item_id]
            sim_scores = list(enumerate(self.cosine_sim[idx]))
            sim_scores = sorted(sim_scores, key=lambda x: x[1], reverse=True)
            sim_scores = sim_scores[1:n+1]  # Skip the item itself
            item_indices = [i[0] for i in sim_scores]
            return self.item_data['item_id'].iloc[item_indices].tolist()
        except KeyError:
            print(f"Item {item_id} not found in metadata")
            return []
    def collaborative_filtering_recommendations(self, user_id, n=10):
        """Get collaborative filtering recommendations for a user"""
        try:
            # Get all items not rated by user
            rated_items = set(self.interactions[self.interactions['user_id'] == user_id]['item_id'])
            all_items = set(self.item_data['item_id'])
            unrated_items = all_items - rated_items
            # Predict ratings for unrated items
            predictions = []
            for item_id in unrated_items:
                pred = self.model_cf.predict(user_id, item_id)
                predictions.append((item_id, pred.est))
            # Sort by predicted rating and return top n
            predictions.sort(key=lambda x: x[1], reverse=True)
            return [item_id for item_id, _ in predictions[:n]]
        except Exception as e:
            print(f"Error generating CF recommendations: {str(e)}")
            return []
    def hybrid_recommendations(self, user_id, item_id=None, n=10, cf_weight=0.5):
        """Get hybrid recommendations combining both approaches"""
        try:
            # If no item_id provided, use user's most recent item
            if item_id is None:
                user_items = self.interactions[self.interactions['user_id'] == user_id]
                if len(user_items) == 0:
                    return self.collaborative_filtering_recommendations(user_id, n)
                item_id = user_items.sort_values('timestamp', ascending=False).iloc[0]['item_id']
            # Get recommendations from both methods
            cb_recs = self.content_based_recommendations(item_id, n*2)
            cf_recs = self.collaborative_filtering_recommendations(user_id, n*2)
            # Combine and deduplicate
            combined = list(set(cb_recs + cf_recs))
            # Score each recommendation
            scored_recs = []
            for rec in combined:
                cb_score = 1 if rec in cb_recs else 0
                cf_score = self.model_cf.predict(user_id, rec).est / 5  # Normalize to 0-1
                total_score = (cf_weight * cf_score) + ((1-cf_weight) * cb_score)
                scored_recs.append((rec, total_score))
            # Sort and return top n
            scored_recs.sort(key=lambda x: x[1], reverse=True)
            return [rec for rec, _ in scored_recs[:n]]
        except Exception as e:
            print(f"Error generating hybrid recommendations: {str(e)}")
            return []
# Example usage
if __name__ == "__main__":
    recommender = HybridRecommender()
    # Example: Content-based recommendations for item 123
    print("Content-based recommendations:")
    print(recommender.content_based_recommendations(123))
    # Example: Collaborative filtering recommendations for user 456
    print("\nCollaborative filtering recommendations:")
    print(recommender.collaborative_filtering_recommendations(456))
    # Example: Hybrid recommendations
    print("\nHybrid recommendations for user 456 based on item 123:")
    print(recommender.hybrid_recommendations(456, 123))