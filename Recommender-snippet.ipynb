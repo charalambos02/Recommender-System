class HybridRecommender:
    def __init__(self, interactions_path: str = 'user_item_interactions.csv',
                 metadata_path: str = 'item_metadata.csv', alpha: float = 0.5):
        if not 0 <= alpha <= 1:
            raise ValueError("Alpha must be between 0 and 1")
        self.alpha = alpha
        self._setup_logging()
        self.logger.info("Initializing HybridRecommender")
        self._load_data(interactions_path, metadata_path)
        self._prepare_models()
    def _setup_logging(self):
        self.logger = logging.getLogger(__name__)
        self.logger.setLevel(logging.INFO)
        handler = logging.StreamHandler()
        formatter = logging.Formatter('%(asctime)s - %(name)s - %(levelname)s - %(message)s')
        handler.setFormatter(formatter)
        self.logger.addHandler(handler)
    def _prepare_models(self):
        """Initialize and train both recommendation models."""
        self._train_collaborative_filtering()
        self._train_content_based_filtering()
    def _train_collaborative_filtering(self):
        """Train the SVD collaborative filtering model."""
        reader = Reader(rating_scale=(1, 5))
        data = Dataset.load_from_df(
            self.interactions[['user_id', 'item_id', 'rating']], reader)
        trainset = data.build_full_trainset()
        self.cf_model = SVD()
        self.cf_model.fit(trainset)
        self.logger.info("Collaborative filtering model trained")
    def _train_content_based_filtering(self):
        """Train the content-based filtering model."""
        self.tfidf = TfidfVectorizer(stop_words='english')
        tfidf_matrix = self.tfidf.fit_transform(
            self.item_data['description'].fillna(''))
        self.cosine_sim = linear_kernel(tfidf_matrix, tfidf_matrix)
        self.logger.info("Content-based filtering model trained")
    def recommend_items(self, user_id: int, item_id: int = None, n: int = 10) -> List[Dict]:
        """Generate hybrid recommendations for a user.
        Args:
            user_id: Target user ID
            item_id: Optional seed item ID for content-based recommendations
            n: Number of recommendations to return
        Returns:
            List of recommended items with scores and metadata
        """
        # Generate CF predictions
        cf_recs = []
        for iid in self.item_data['item_id'].unique():
            pred = self.cf_model.predict(user_id, iid).est
            cf_recs.append((iid, pred))
        # Generate CB predictions if item_id provided
        cb_recs = []
        if item_id is not None:
            idx = self.item_data.index[self.item_data['item_id'] == item_id].tolist()[0]
            sim_scores = list(enumerate(self.cosine_sim[idx]))
            sim_scores = sorted(sim_scores, key=lambda x: x[1], reverse=True)
            sim_scores = sim_scores[1:n+1]
            item_indices = [i[0] for i in sim_scores]
            cb_recs = [(self.item_data.iloc[i]['item_id'], sim_scores[i][1]) 
                      for i in item_indices]
        # Combine recommendations
        if cb_recs:
            combined = {}
            for iid, score in cf_recs:
                combined[iid] = self.alpha * score
            for iid, score in cb_recs:
                combined[iid] = combined.get(iid, 0) + (1 - self.alpha) * score
            recommendations = sorted(combined.items(), key=lambda x: x[1], reverse=True)[:n]
        else:
            recommendations = sorted(cf_recs, key=lambda x: x[1], reverse=True)[:n]
        return [{
            'item_id': rec[0],
            'score': rec[1],
            'metadata': self.item_data[self.item_data['item_id'] == rec[0]].to_dict('records')[0]
        } for rec in recommendations]